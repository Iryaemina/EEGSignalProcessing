{
 "cells": [
  {
   "cell_type": "code",
   "execution_count": 111,
   "metadata": {},
   "outputs": [],
   "source": [
    "from glob import glob\n",
    "import os\n",
    "import numpy as np\n",
    "import mne\n",
    "import pandas\n",
    "import matplotlib.pyplot as plt"
   ]
  },
  {
   "cell_type": "code",
   "execution_count": 112,
   "metadata": {},
   "outputs": [
    {
     "name": "stdout",
     "output_type": "stream",
     "text": [
      "Current working directory: d:\\SRM\\jupyter\n"
     ]
    }
   ],
   "source": [
    "# Define the folder path containing EEG files\n",
    "folder_path = r\"D:\\SRM\\ALZHEIMER DATA\\EEG 19 CHANNEL 1\"\n",
    "\n",
    "# List all files in the folder\n",
    "files = os.listdir(folder_path)\n",
    "print(\"Current working directory:\", os.getcwd())"
   ]
  },
  {
   "cell_type": "code",
   "execution_count": 113,
   "metadata": {},
   "outputs": [
    {
     "name": "stdout",
     "output_type": "stream",
     "text": [
      "Number of .set files found: 63\n",
      "D:\\SRM\\ALZHEIMER DATA\\EEG 19 CHANNEL 1\\AD\\sub-003\\eeg\\sub-003_task-eyesclosed_eeg.set\n",
      "D:\\SRM\\ALZHEIMER DATA\\EEG 19 CHANNEL 1\\AD\\sub-004\\eeg\\sub-004_task-eyesclosed_eeg.set\n",
      "D:\\SRM\\ALZHEIMER DATA\\EEG 19 CHANNEL 1\\AD\\sub-005\\eeg\\sub-005_task-eyesclosed_eeg.set\n",
      "D:\\SRM\\ALZHEIMER DATA\\EEG 19 CHANNEL 1\\AD\\sub-006\\eeg\\sub-006_task-eyesclosed_eeg.set\n",
      "D:\\SRM\\ALZHEIMER DATA\\EEG 19 CHANNEL 1\\AD\\sub-007\\eeg\\sub-007_task-eyesclosed_eeg.set\n",
      "D:\\SRM\\ALZHEIMER DATA\\EEG 19 CHANNEL 1\\AD\\sub-008\\eeg\\sub-008_task-eyesclosed_eeg.set\n",
      "D:\\SRM\\ALZHEIMER DATA\\EEG 19 CHANNEL 1\\AD\\sub-009\\eeg\\sub-009_task-eyesclosed_eeg.set\n",
      "D:\\SRM\\ALZHEIMER DATA\\EEG 19 CHANNEL 1\\AD\\sub-010\\eeg\\sub-010_task-eyesclosed_eeg.set\n",
      "D:\\SRM\\ALZHEIMER DATA\\EEG 19 CHANNEL 1\\AD\\sub-011\\eeg\\sub-011_task-eyesclosed_eeg.set\n",
      "D:\\SRM\\ALZHEIMER DATA\\EEG 19 CHANNEL 1\\AD\\sub-012\\eeg\\sub-012_task-eyesclosed_eeg.set\n",
      "D:\\SRM\\ALZHEIMER DATA\\EEG 19 CHANNEL 1\\AD\\sub-013\\eeg\\sub-013_task-eyesclosed_eeg.set\n",
      "D:\\SRM\\ALZHEIMER DATA\\EEG 19 CHANNEL 1\\AD\\sub-014\\eeg\\sub-014_task-eyesclosed_eeg.set\n",
      "D:\\SRM\\ALZHEIMER DATA\\EEG 19 CHANNEL 1\\AD\\sub-015\\eeg\\sub-015_task-eyesclosed_eeg.set\n",
      "D:\\SRM\\ALZHEIMER DATA\\EEG 19 CHANNEL 1\\AD\\sub-016\\eeg\\sub-016_task-eyesclosed_eeg.set\n",
      "D:\\SRM\\ALZHEIMER DATA\\EEG 19 CHANNEL 1\\AD\\sub-017\\eeg\\sub-017_task-eyesclosed_eeg.set\n",
      "D:\\SRM\\ALZHEIMER DATA\\EEG 19 CHANNEL 1\\AD\\sub-018\\eeg\\sub-018_task-eyesclosed_eeg.set\n",
      "D:\\SRM\\ALZHEIMER DATA\\EEG 19 CHANNEL 1\\AD\\sub-019\\eeg\\sub-019_task-eyesclosed_eeg.set\n",
      "D:\\SRM\\ALZHEIMER DATA\\EEG 19 CHANNEL 1\\AD\\sub-020\\eeg\\sub-020_task-eyesclosed_eeg.set\n",
      "D:\\SRM\\ALZHEIMER DATA\\EEG 19 CHANNEL 1\\AD\\sub-021\\eeg\\sub-021_task-eyesclosed_eeg.set\n",
      "D:\\SRM\\ALZHEIMER DATA\\EEG 19 CHANNEL 1\\AD\\sub-022\\eeg\\sub-022_task-eyesclosed_eeg.set\n",
      "D:\\SRM\\ALZHEIMER DATA\\EEG 19 CHANNEL 1\\AD\\sub-023\\eeg\\sub-023_task-eyesclosed_eeg.set\n",
      "D:\\SRM\\ALZHEIMER DATA\\EEG 19 CHANNEL 1\\AD\\sub-024\\eeg\\sub-024_task-eyesclosed_eeg.set\n",
      "D:\\SRM\\ALZHEIMER DATA\\EEG 19 CHANNEL 1\\AD\\sub-025\\eeg\\sub-025_task-eyesclosed_eeg.set\n",
      "D:\\SRM\\ALZHEIMER DATA\\EEG 19 CHANNEL 1\\AD\\sub-026\\eeg\\sub-026_task-eyesclosed_eeg.set\n",
      "D:\\SRM\\ALZHEIMER DATA\\EEG 19 CHANNEL 1\\AD\\sub-027\\eeg\\sub-027_task-eyesclosed_eeg.set\n",
      "D:\\SRM\\ALZHEIMER DATA\\EEG 19 CHANNEL 1\\AD\\sub-028\\eeg\\sub-028_task-eyesclosed_eeg.set\n",
      "D:\\SRM\\ALZHEIMER DATA\\EEG 19 CHANNEL 1\\AD\\sub-029\\eeg\\sub-029_task-eyesclosed_eeg.set\n",
      "D:\\SRM\\ALZHEIMER DATA\\EEG 19 CHANNEL 1\\AD\\sub-030\\eeg\\sub-030_task-eyesclosed_eeg.set\n",
      "D:\\SRM\\ALZHEIMER DATA\\EEG 19 CHANNEL 1\\AD\\sub-031\\eeg\\sub-031_task-eyesclosed_eeg.set\n",
      "D:\\SRM\\ALZHEIMER DATA\\EEG 19 CHANNEL 1\\AD\\sub-032\\eeg\\sub-032_task-eyesclosed_eeg.set\n",
      "D:\\SRM\\ALZHEIMER DATA\\EEG 19 CHANNEL 1\\AD\\sub-033\\eeg\\sub-033_task-eyesclosed_eeg.set\n",
      "D:\\SRM\\ALZHEIMER DATA\\EEG 19 CHANNEL 1\\AD\\sub-034\\eeg\\sub-034_task-eyesclosed_eeg.set\n",
      "D:\\SRM\\ALZHEIMER DATA\\EEG 19 CHANNEL 1\\AD\\sub-035\\eeg\\sub-035_task-eyesclosed_eeg.set\n",
      "D:\\SRM\\ALZHEIMER DATA\\EEG 19 CHANNEL 1\\AD\\sub-036\\eeg\\sub-036_task-eyesclosed_eeg.set\n",
      "D:\\SRM\\ALZHEIMER DATA\\EEG 19 CHANNEL 1\\HEALTHY\\sub-060\\eeg\\sub-060_task-eyesclosed_eeg.set\n",
      "D:\\SRM\\ALZHEIMER DATA\\EEG 19 CHANNEL 1\\HEALTHY\\sub-061\\eeg\\sub-061_task-eyesclosed_eeg.set\n",
      "D:\\SRM\\ALZHEIMER DATA\\EEG 19 CHANNEL 1\\HEALTHY\\sub-062\\eeg\\sub-062_task-eyesclosed_eeg.set\n",
      "D:\\SRM\\ALZHEIMER DATA\\EEG 19 CHANNEL 1\\HEALTHY\\sub-063\\eeg\\sub-063_task-eyesclosed_eeg.set\n",
      "D:\\SRM\\ALZHEIMER DATA\\EEG 19 CHANNEL 1\\HEALTHY\\sub-064\\eeg\\sub-064_task-eyesclosed_eeg.set\n",
      "D:\\SRM\\ALZHEIMER DATA\\EEG 19 CHANNEL 1\\HEALTHY\\sub-065\\eeg\\sub-065_task-eyesclosed_eeg.set\n",
      "D:\\SRM\\ALZHEIMER DATA\\EEG 19 CHANNEL 1\\HEALTHY\\sub-066\\eeg\\sub-066_task-eyesclosed_eeg.set\n",
      "D:\\SRM\\ALZHEIMER DATA\\EEG 19 CHANNEL 1\\HEALTHY\\sub-067\\eeg\\sub-067_task-eyesclosed_eeg.set\n",
      "D:\\SRM\\ALZHEIMER DATA\\EEG 19 CHANNEL 1\\HEALTHY\\sub-068\\eeg\\sub-068_task-eyesclosed_eeg.set\n",
      "D:\\SRM\\ALZHEIMER DATA\\EEG 19 CHANNEL 1\\HEALTHY\\sub-069\\eeg\\sub-069_task-eyesclosed_eeg.set\n",
      "D:\\SRM\\ALZHEIMER DATA\\EEG 19 CHANNEL 1\\HEALTHY\\sub-070\\eeg\\sub-070_task-eyesclosed_eeg.set\n",
      "D:\\SRM\\ALZHEIMER DATA\\EEG 19 CHANNEL 1\\HEALTHY\\sub-071\\eeg\\sub-071_task-eyesclosed_eeg.set\n",
      "D:\\SRM\\ALZHEIMER DATA\\EEG 19 CHANNEL 1\\HEALTHY\\sub-072\\eeg\\sub-072_task-eyesclosed_eeg.set\n",
      "D:\\SRM\\ALZHEIMER DATA\\EEG 19 CHANNEL 1\\HEALTHY\\sub-073\\eeg\\sub-073_task-eyesclosed_eeg.set\n",
      "D:\\SRM\\ALZHEIMER DATA\\EEG 19 CHANNEL 1\\HEALTHY\\sub-074\\eeg\\sub-074_task-eyesclosed_eeg.set\n",
      "D:\\SRM\\ALZHEIMER DATA\\EEG 19 CHANNEL 1\\HEALTHY\\sub-075\\eeg\\sub-075_task-eyesclosed_eeg.set\n",
      "D:\\SRM\\ALZHEIMER DATA\\EEG 19 CHANNEL 1\\HEALTHY\\sub-076\\eeg\\sub-076_task-eyesclosed_eeg.set\n",
      "D:\\SRM\\ALZHEIMER DATA\\EEG 19 CHANNEL 1\\HEALTHY\\sub-077\\eeg\\sub-077_task-eyesclosed_eeg.set\n",
      "D:\\SRM\\ALZHEIMER DATA\\EEG 19 CHANNEL 1\\HEALTHY\\sub-078\\eeg\\sub-078_task-eyesclosed_eeg.set\n",
      "D:\\SRM\\ALZHEIMER DATA\\EEG 19 CHANNEL 1\\HEALTHY\\sub-079\\eeg\\sub-079_task-eyesclosed_eeg.set\n",
      "D:\\SRM\\ALZHEIMER DATA\\EEG 19 CHANNEL 1\\HEALTHY\\sub-080\\eeg\\sub-080_task-eyesclosed_eeg.set\n",
      "D:\\SRM\\ALZHEIMER DATA\\EEG 19 CHANNEL 1\\HEALTHY\\sub-081\\eeg\\sub-081_task-eyesclosed_eeg.set\n",
      "D:\\SRM\\ALZHEIMER DATA\\EEG 19 CHANNEL 1\\HEALTHY\\sub-082\\eeg\\sub-082_task-eyesclosed_eeg.set\n",
      "D:\\SRM\\ALZHEIMER DATA\\EEG 19 CHANNEL 1\\HEALTHY\\sub-083\\eeg\\sub-083_task-eyesclosed_eeg.set\n",
      "D:\\SRM\\ALZHEIMER DATA\\EEG 19 CHANNEL 1\\HEALTHY\\sub-084\\eeg\\sub-084_task-eyesclosed_eeg.set\n",
      "D:\\SRM\\ALZHEIMER DATA\\EEG 19 CHANNEL 1\\HEALTHY\\sub-085\\eeg\\sub-085_task-eyesclosed_eeg.set\n",
      "D:\\SRM\\ALZHEIMER DATA\\EEG 19 CHANNEL 1\\HEALTHY\\sub-086\\eeg\\sub-086_task-eyesclosed_eeg.set\n",
      "D:\\SRM\\ALZHEIMER DATA\\EEG 19 CHANNEL 1\\HEALTHY\\sub-087\\eeg\\sub-087_task-eyesclosed_eeg.set\n",
      "D:\\SRM\\ALZHEIMER DATA\\EEG 19 CHANNEL 1\\HEALTHY\\sub-088\\eeg\\sub-088_task-eyesclosed_eeg.set\n"
     ]
    }
   ],
   "source": [
    "\n",
    "from glob import glob\n",
    "\n",
    "# Specify the directory path where your .set files are located\n",
    "directory_path = r\"D:\\SRM\\ALZHEIMER DATA\\EEG 19 CHANNEL 1\"\n",
    "\n",
    "# Use glob to find all .set files in the specified directory\n",
    "set_files = glob(f'{directory_path}/**/*.set', recursive=True)\n",
    "\n",
    "# Print the number of .set files found\n",
    "num_files = len(set_files)\n",
    "print(\"Number of .set files found:\", num_files)\n",
    "\n",
    "# Print the paths of all .set files found\n",
    "for file in set_files:\n",
    "    print(file)\n"
   ]
  },
  {
   "cell_type": "code",
   "execution_count": 114,
   "metadata": {},
   "outputs": [
    {
     "name": "stdout",
     "output_type": "stream",
     "text": [
      "['BaseRaw', 'Raw', 'RawArray', 'anonymize_info', 'concatenate_raws', 'constants', 'get_channel_type_constants', 'match_channel_orders', 'pick', 'read_epochs_eeglab', 'read_epochs_fieldtrip', 'read_epochs_kit', 'read_evoked_besa', 'read_evoked_fieldtrip', 'read_evokeds_mff', 'read_fiducials', 'read_info', 'read_raw', 'read_raw_artemis123', 'read_raw_bdf', 'read_raw_boxy', 'read_raw_brainvision', 'read_raw_bti', 'read_raw_cnt', 'read_raw_ctf', 'read_raw_curry', 'read_raw_edf', 'read_raw_eeglab', 'read_raw_egi', 'read_raw_eximia', 'read_raw_eyelink', 'read_raw_fieldtrip', 'read_raw_fif', 'read_raw_fil', 'read_raw_gdf', 'read_raw_hitachi', 'read_raw_kit', 'read_raw_nedf', 'read_raw_neuralynx', 'read_raw_nicolet', 'read_raw_nihon', 'read_raw_nirx', 'read_raw_nsx', 'read_raw_persyst', 'read_raw_snirf', 'show_fiff', 'write_fiducials', 'write_info']\n"
     ]
    }
   ],
   "source": [
    "print(dir(mne.io))"
   ]
  },
  {
   "cell_type": "code",
   "execution_count": 115,
   "metadata": {},
   "outputs": [
    {
     "name": "stdout",
     "output_type": "stream",
     "text": [
      "NOTE: pick_types() is a legacy function. New code should use inst.pick(...).\n"
     ]
    },
    {
     "name": "stderr",
     "output_type": "stream",
     "text": [
      "C:\\Users\\Demon\\AppData\\Local\\Temp\\ipykernel_24628\\2652634628.py:6: RuntimeWarning: The data contains 'boundary' events, indicating data discontinuities. Be cautious of filtering and epoching around these events.\n",
      "  p_eeg = mne.io.read_raw(x, preload=True)\n"
     ]
    },
    {
     "name": "stdout",
     "output_type": "stream",
     "text": [
      "NOTE: pick_types() is a legacy function. New code should use inst.pick(...).\n"
     ]
    },
    {
     "name": "stderr",
     "output_type": "stream",
     "text": [
      "C:\\Users\\Demon\\AppData\\Local\\Temp\\ipykernel_24628\\2652634628.py:6: RuntimeWarning: The data contains 'boundary' events, indicating data discontinuities. Be cautious of filtering and epoching around these events.\n",
      "  p_eeg = mne.io.read_raw(x, preload=True)\n"
     ]
    },
    {
     "name": "stdout",
     "output_type": "stream",
     "text": [
      "NOTE: pick_types() is a legacy function. New code should use inst.pick(...).\n",
      "NOTE: pick_types() is a legacy function. New code should use inst.pick(...).\n"
     ]
    },
    {
     "name": "stderr",
     "output_type": "stream",
     "text": [
      "C:\\Users\\Demon\\AppData\\Local\\Temp\\ipykernel_24628\\2652634628.py:6: RuntimeWarning: The data contains 'boundary' events, indicating data discontinuities. Be cautious of filtering and epoching around these events.\n",
      "  p_eeg = mne.io.read_raw(x, preload=True)\n"
     ]
    },
    {
     "name": "stdout",
     "output_type": "stream",
     "text": [
      "NOTE: pick_types() is a legacy function. New code should use inst.pick(...).\n"
     ]
    },
    {
     "name": "stderr",
     "output_type": "stream",
     "text": [
      "C:\\Users\\Demon\\AppData\\Local\\Temp\\ipykernel_24628\\2652634628.py:6: RuntimeWarning: The data contains 'boundary' events, indicating data discontinuities. Be cautious of filtering and epoching around these events.\n",
      "  p_eeg = mne.io.read_raw(x, preload=True)\n"
     ]
    },
    {
     "name": "stdout",
     "output_type": "stream",
     "text": [
      "NOTE: pick_types() is a legacy function. New code should use inst.pick(...).\n"
     ]
    },
    {
     "name": "stderr",
     "output_type": "stream",
     "text": [
      "C:\\Users\\Demon\\AppData\\Local\\Temp\\ipykernel_24628\\2652634628.py:6: RuntimeWarning: The data contains 'boundary' events, indicating data discontinuities. Be cautious of filtering and epoching around these events.\n",
      "  p_eeg = mne.io.read_raw(x, preload=True)\n",
      "C:\\Users\\Demon\\AppData\\Local\\Temp\\ipykernel_24628\\2652634628.py:6: RuntimeWarning: The data contains 'boundary' events, indicating data discontinuities. Be cautious of filtering and epoching around these events.\n",
      "  p_eeg = mne.io.read_raw(x, preload=True)\n"
     ]
    },
    {
     "name": "stdout",
     "output_type": "stream",
     "text": [
      "NOTE: pick_types() is a legacy function. New code should use inst.pick(...).\n",
      "NOTE: pick_types() is a legacy function. New code should use inst.pick(...).\n"
     ]
    },
    {
     "name": "stderr",
     "output_type": "stream",
     "text": [
      "C:\\Users\\Demon\\AppData\\Local\\Temp\\ipykernel_24628\\2652634628.py:6: RuntimeWarning: The data contains 'boundary' events, indicating data discontinuities. Be cautious of filtering and epoching around these events.\n",
      "  p_eeg = mne.io.read_raw(x, preload=True)\n"
     ]
    },
    {
     "name": "stdout",
     "output_type": "stream",
     "text": [
      "NOTE: pick_types() is a legacy function. New code should use inst.pick(...).\n"
     ]
    },
    {
     "name": "stderr",
     "output_type": "stream",
     "text": [
      "C:\\Users\\Demon\\AppData\\Local\\Temp\\ipykernel_24628\\2652634628.py:6: RuntimeWarning: The data contains 'boundary' events, indicating data discontinuities. Be cautious of filtering and epoching around these events.\n",
      "  p_eeg = mne.io.read_raw(x, preload=True)\n"
     ]
    },
    {
     "name": "stdout",
     "output_type": "stream",
     "text": [
      "NOTE: pick_types() is a legacy function. New code should use inst.pick(...).\n"
     ]
    },
    {
     "name": "stderr",
     "output_type": "stream",
     "text": [
      "C:\\Users\\Demon\\AppData\\Local\\Temp\\ipykernel_24628\\2652634628.py:6: RuntimeWarning: The data contains 'boundary' events, indicating data discontinuities. Be cautious of filtering and epoching around these events.\n",
      "  p_eeg = mne.io.read_raw(x, preload=True)\n"
     ]
    },
    {
     "name": "stdout",
     "output_type": "stream",
     "text": [
      "NOTE: pick_types() is a legacy function. New code should use inst.pick(...).\n"
     ]
    },
    {
     "name": "stderr",
     "output_type": "stream",
     "text": [
      "C:\\Users\\Demon\\AppData\\Local\\Temp\\ipykernel_24628\\2652634628.py:6: RuntimeWarning: The data contains 'boundary' events, indicating data discontinuities. Be cautious of filtering and epoching around these events.\n",
      "  p_eeg = mne.io.read_raw(x, preload=True)\n"
     ]
    },
    {
     "name": "stdout",
     "output_type": "stream",
     "text": [
      "NOTE: pick_types() is a legacy function. New code should use inst.pick(...).\n"
     ]
    },
    {
     "name": "stderr",
     "output_type": "stream",
     "text": [
      "C:\\Users\\Demon\\AppData\\Local\\Temp\\ipykernel_24628\\2652634628.py:6: RuntimeWarning: The data contains 'boundary' events, indicating data discontinuities. Be cautious of filtering and epoching around these events.\n",
      "  p_eeg = mne.io.read_raw(x, preload=True)\n"
     ]
    },
    {
     "name": "stdout",
     "output_type": "stream",
     "text": [
      "NOTE: pick_types() is a legacy function. New code should use inst.pick(...).\n"
     ]
    },
    {
     "name": "stderr",
     "output_type": "stream",
     "text": [
      "C:\\Users\\Demon\\AppData\\Local\\Temp\\ipykernel_24628\\2652634628.py:6: RuntimeWarning: The data contains 'boundary' events, indicating data discontinuities. Be cautious of filtering and epoching around these events.\n",
      "  p_eeg = mne.io.read_raw(x, preload=True)\n"
     ]
    },
    {
     "name": "stdout",
     "output_type": "stream",
     "text": [
      "NOTE: pick_types() is a legacy function. New code should use inst.pick(...).\n"
     ]
    },
    {
     "name": "stderr",
     "output_type": "stream",
     "text": [
      "C:\\Users\\Demon\\AppData\\Local\\Temp\\ipykernel_24628\\2652634628.py:6: RuntimeWarning: The data contains 'boundary' events, indicating data discontinuities. Be cautious of filtering and epoching around these events.\n",
      "  p_eeg = mne.io.read_raw(x, preload=True)\n"
     ]
    },
    {
     "name": "stdout",
     "output_type": "stream",
     "text": [
      "NOTE: pick_types() is a legacy function. New code should use inst.pick(...).\n"
     ]
    },
    {
     "name": "stderr",
     "output_type": "stream",
     "text": [
      "C:\\Users\\Demon\\AppData\\Local\\Temp\\ipykernel_24628\\2652634628.py:6: RuntimeWarning: The data contains 'boundary' events, indicating data discontinuities. Be cautious of filtering and epoching around these events.\n",
      "  p_eeg = mne.io.read_raw(x, preload=True)\n"
     ]
    },
    {
     "name": "stdout",
     "output_type": "stream",
     "text": [
      "NOTE: pick_types() is a legacy function. New code should use inst.pick(...).\n"
     ]
    },
    {
     "name": "stderr",
     "output_type": "stream",
     "text": [
      "C:\\Users\\Demon\\AppData\\Local\\Temp\\ipykernel_24628\\2652634628.py:6: RuntimeWarning: The data contains 'boundary' events, indicating data discontinuities. Be cautious of filtering and epoching around these events.\n",
      "  p_eeg = mne.io.read_raw(x, preload=True)\n"
     ]
    },
    {
     "name": "stdout",
     "output_type": "stream",
     "text": [
      "NOTE: pick_types() is a legacy function. New code should use inst.pick(...).\n"
     ]
    },
    {
     "name": "stderr",
     "output_type": "stream",
     "text": [
      "C:\\Users\\Demon\\AppData\\Local\\Temp\\ipykernel_24628\\2652634628.py:6: RuntimeWarning: The data contains 'boundary' events, indicating data discontinuities. Be cautious of filtering and epoching around these events.\n",
      "  p_eeg = mne.io.read_raw(x, preload=True)\n"
     ]
    },
    {
     "name": "stdout",
     "output_type": "stream",
     "text": [
      "NOTE: pick_types() is a legacy function. New code should use inst.pick(...).\n",
      "NOTE: pick_types() is a legacy function. New code should use inst.pick(...).\n"
     ]
    },
    {
     "name": "stderr",
     "output_type": "stream",
     "text": [
      "C:\\Users\\Demon\\AppData\\Local\\Temp\\ipykernel_24628\\2652634628.py:6: RuntimeWarning: The data contains 'boundary' events, indicating data discontinuities. Be cautious of filtering and epoching around these events.\n",
      "  p_eeg = mne.io.read_raw(x, preload=True)\n"
     ]
    },
    {
     "name": "stdout",
     "output_type": "stream",
     "text": [
      "NOTE: pick_types() is a legacy function. New code should use inst.pick(...).\n"
     ]
    },
    {
     "name": "stderr",
     "output_type": "stream",
     "text": [
      "C:\\Users\\Demon\\AppData\\Local\\Temp\\ipykernel_24628\\2652634628.py:6: RuntimeWarning: The data contains 'boundary' events, indicating data discontinuities. Be cautious of filtering and epoching around these events.\n",
      "  p_eeg = mne.io.read_raw(x, preload=True)\n"
     ]
    },
    {
     "name": "stdout",
     "output_type": "stream",
     "text": [
      "NOTE: pick_types() is a legacy function. New code should use inst.pick(...).\n"
     ]
    },
    {
     "name": "stderr",
     "output_type": "stream",
     "text": [
      "C:\\Users\\Demon\\AppData\\Local\\Temp\\ipykernel_24628\\2652634628.py:6: RuntimeWarning: The data contains 'boundary' events, indicating data discontinuities. Be cautious of filtering and epoching around these events.\n",
      "  p_eeg = mne.io.read_raw(x, preload=True)\n"
     ]
    },
    {
     "name": "stdout",
     "output_type": "stream",
     "text": [
      "NOTE: pick_types() is a legacy function. New code should use inst.pick(...).\n"
     ]
    },
    {
     "name": "stderr",
     "output_type": "stream",
     "text": [
      "C:\\Users\\Demon\\AppData\\Local\\Temp\\ipykernel_24628\\2652634628.py:6: RuntimeWarning: The data contains 'boundary' events, indicating data discontinuities. Be cautious of filtering and epoching around these events.\n",
      "  p_eeg = mne.io.read_raw(x, preload=True)\n"
     ]
    },
    {
     "name": "stdout",
     "output_type": "stream",
     "text": [
      "NOTE: pick_types() is a legacy function. New code should use inst.pick(...).\n"
     ]
    },
    {
     "name": "stderr",
     "output_type": "stream",
     "text": [
      "C:\\Users\\Demon\\AppData\\Local\\Temp\\ipykernel_24628\\2652634628.py:6: RuntimeWarning: The data contains 'boundary' events, indicating data discontinuities. Be cautious of filtering and epoching around these events.\n",
      "  p_eeg = mne.io.read_raw(x, preload=True)\n"
     ]
    },
    {
     "name": "stdout",
     "output_type": "stream",
     "text": [
      "NOTE: pick_types() is a legacy function. New code should use inst.pick(...).\n"
     ]
    },
    {
     "name": "stderr",
     "output_type": "stream",
     "text": [
      "C:\\Users\\Demon\\AppData\\Local\\Temp\\ipykernel_24628\\2652634628.py:6: RuntimeWarning: The data contains 'boundary' events, indicating data discontinuities. Be cautious of filtering and epoching around these events.\n",
      "  p_eeg = mne.io.read_raw(x, preload=True)\n"
     ]
    },
    {
     "name": "stdout",
     "output_type": "stream",
     "text": [
      "NOTE: pick_types() is a legacy function. New code should use inst.pick(...).\n"
     ]
    },
    {
     "name": "stderr",
     "output_type": "stream",
     "text": [
      "C:\\Users\\Demon\\AppData\\Local\\Temp\\ipykernel_24628\\2652634628.py:6: RuntimeWarning: The data contains 'boundary' events, indicating data discontinuities. Be cautious of filtering and epoching around these events.\n",
      "  p_eeg = mne.io.read_raw(x, preload=True)\n"
     ]
    },
    {
     "name": "stdout",
     "output_type": "stream",
     "text": [
      "NOTE: pick_types() is a legacy function. New code should use inst.pick(...).\n"
     ]
    },
    {
     "name": "stderr",
     "output_type": "stream",
     "text": [
      "C:\\Users\\Demon\\AppData\\Local\\Temp\\ipykernel_24628\\2652634628.py:6: RuntimeWarning: The data contains 'boundary' events, indicating data discontinuities. Be cautious of filtering and epoching around these events.\n",
      "  p_eeg = mne.io.read_raw(x, preload=True)\n"
     ]
    },
    {
     "name": "stdout",
     "output_type": "stream",
     "text": [
      "NOTE: pick_types() is a legacy function. New code should use inst.pick(...).\n"
     ]
    },
    {
     "name": "stderr",
     "output_type": "stream",
     "text": [
      "C:\\Users\\Demon\\AppData\\Local\\Temp\\ipykernel_24628\\2652634628.py:6: RuntimeWarning: The data contains 'boundary' events, indicating data discontinuities. Be cautious of filtering and epoching around these events.\n",
      "  p_eeg = mne.io.read_raw(x, preload=True)\n"
     ]
    },
    {
     "name": "stdout",
     "output_type": "stream",
     "text": [
      "NOTE: pick_types() is a legacy function. New code should use inst.pick(...).\n"
     ]
    },
    {
     "name": "stderr",
     "output_type": "stream",
     "text": [
      "C:\\Users\\Demon\\AppData\\Local\\Temp\\ipykernel_24628\\2652634628.py:6: RuntimeWarning: The data contains 'boundary' events, indicating data discontinuities. Be cautious of filtering and epoching around these events.\n",
      "  p_eeg = mne.io.read_raw(x, preload=True)\n"
     ]
    },
    {
     "name": "stdout",
     "output_type": "stream",
     "text": [
      "NOTE: pick_types() is a legacy function. New code should use inst.pick(...).\n"
     ]
    },
    {
     "name": "stderr",
     "output_type": "stream",
     "text": [
      "C:\\Users\\Demon\\AppData\\Local\\Temp\\ipykernel_24628\\2652634628.py:6: RuntimeWarning: The data contains 'boundary' events, indicating data discontinuities. Be cautious of filtering and epoching around these events.\n",
      "  p_eeg = mne.io.read_raw(x, preload=True)\n"
     ]
    },
    {
     "name": "stdout",
     "output_type": "stream",
     "text": [
      "NOTE: pick_types() is a legacy function. New code should use inst.pick(...).\n"
     ]
    },
    {
     "name": "stderr",
     "output_type": "stream",
     "text": [
      "C:\\Users\\Demon\\AppData\\Local\\Temp\\ipykernel_24628\\2652634628.py:6: RuntimeWarning: The data contains 'boundary' events, indicating data discontinuities. Be cautious of filtering and epoching around these events.\n",
      "  p_eeg = mne.io.read_raw(x, preload=True)\n"
     ]
    },
    {
     "name": "stdout",
     "output_type": "stream",
     "text": [
      "NOTE: pick_types() is a legacy function. New code should use inst.pick(...).\n"
     ]
    },
    {
     "name": "stderr",
     "output_type": "stream",
     "text": [
      "C:\\Users\\Demon\\AppData\\Local\\Temp\\ipykernel_24628\\2652634628.py:6: RuntimeWarning: The data contains 'boundary' events, indicating data discontinuities. Be cautious of filtering and epoching around these events.\n",
      "  p_eeg = mne.io.read_raw(x, preload=True)\n"
     ]
    },
    {
     "name": "stdout",
     "output_type": "stream",
     "text": [
      "NOTE: pick_types() is a legacy function. New code should use inst.pick(...).\n"
     ]
    },
    {
     "name": "stderr",
     "output_type": "stream",
     "text": [
      "C:\\Users\\Demon\\AppData\\Local\\Temp\\ipykernel_24628\\2652634628.py:6: RuntimeWarning: The data contains 'boundary' events, indicating data discontinuities. Be cautious of filtering and epoching around these events.\n",
      "  p_eeg = mne.io.read_raw(x, preload=True)\n"
     ]
    },
    {
     "name": "stdout",
     "output_type": "stream",
     "text": [
      "NOTE: pick_types() is a legacy function. New code should use inst.pick(...).\n"
     ]
    },
    {
     "name": "stderr",
     "output_type": "stream",
     "text": [
      "C:\\Users\\Demon\\AppData\\Local\\Temp\\ipykernel_24628\\2652634628.py:6: RuntimeWarning: The data contains 'boundary' events, indicating data discontinuities. Be cautious of filtering and epoching around these events.\n",
      "  p_eeg = mne.io.read_raw(x, preload=True)\n"
     ]
    },
    {
     "name": "stdout",
     "output_type": "stream",
     "text": [
      "NOTE: pick_types() is a legacy function. New code should use inst.pick(...).\n"
     ]
    },
    {
     "name": "stderr",
     "output_type": "stream",
     "text": [
      "C:\\Users\\Demon\\AppData\\Local\\Temp\\ipykernel_24628\\2652634628.py:6: RuntimeWarning: The data contains 'boundary' events, indicating data discontinuities. Be cautious of filtering and epoching around these events.\n",
      "  p_eeg = mne.io.read_raw(x, preload=True)\n"
     ]
    },
    {
     "name": "stdout",
     "output_type": "stream",
     "text": [
      "NOTE: pick_types() is a legacy function. New code should use inst.pick(...).\n"
     ]
    },
    {
     "name": "stderr",
     "output_type": "stream",
     "text": [
      "C:\\Users\\Demon\\AppData\\Local\\Temp\\ipykernel_24628\\2652634628.py:6: RuntimeWarning: The data contains 'boundary' events, indicating data discontinuities. Be cautious of filtering and epoching around these events.\n",
      "  p_eeg = mne.io.read_raw(x, preload=True)\n"
     ]
    },
    {
     "name": "stdout",
     "output_type": "stream",
     "text": [
      "NOTE: pick_types() is a legacy function. New code should use inst.pick(...).\n"
     ]
    },
    {
     "name": "stderr",
     "output_type": "stream",
     "text": [
      "C:\\Users\\Demon\\AppData\\Local\\Temp\\ipykernel_24628\\2652634628.py:6: RuntimeWarning: The data contains 'boundary' events, indicating data discontinuities. Be cautious of filtering and epoching around these events.\n",
      "  p_eeg = mne.io.read_raw(x, preload=True)\n"
     ]
    },
    {
     "name": "stdout",
     "output_type": "stream",
     "text": [
      "NOTE: pick_types() is a legacy function. New code should use inst.pick(...).\n"
     ]
    },
    {
     "name": "stderr",
     "output_type": "stream",
     "text": [
      "C:\\Users\\Demon\\AppData\\Local\\Temp\\ipykernel_24628\\2652634628.py:6: RuntimeWarning: The data contains 'boundary' events, indicating data discontinuities. Be cautious of filtering and epoching around these events.\n",
      "  p_eeg = mne.io.read_raw(x, preload=True)\n"
     ]
    },
    {
     "name": "stdout",
     "output_type": "stream",
     "text": [
      "NOTE: pick_types() is a legacy function. New code should use inst.pick(...).\n"
     ]
    },
    {
     "name": "stderr",
     "output_type": "stream",
     "text": [
      "C:\\Users\\Demon\\AppData\\Local\\Temp\\ipykernel_24628\\2652634628.py:6: RuntimeWarning: The data contains 'boundary' events, indicating data discontinuities. Be cautious of filtering and epoching around these events.\n",
      "  p_eeg = mne.io.read_raw(x, preload=True)\n"
     ]
    },
    {
     "name": "stdout",
     "output_type": "stream",
     "text": [
      "NOTE: pick_types() is a legacy function. New code should use inst.pick(...).\n"
     ]
    },
    {
     "name": "stderr",
     "output_type": "stream",
     "text": [
      "C:\\Users\\Demon\\AppData\\Local\\Temp\\ipykernel_24628\\2652634628.py:6: RuntimeWarning: The data contains 'boundary' events, indicating data discontinuities. Be cautious of filtering and epoching around these events.\n",
      "  p_eeg = mne.io.read_raw(x, preload=True)\n"
     ]
    },
    {
     "name": "stdout",
     "output_type": "stream",
     "text": [
      "NOTE: pick_types() is a legacy function. New code should use inst.pick(...).\n",
      "NOTE: pick_types() is a legacy function. New code should use inst.pick(...).\n"
     ]
    },
    {
     "name": "stderr",
     "output_type": "stream",
     "text": [
      "C:\\Users\\Demon\\AppData\\Local\\Temp\\ipykernel_24628\\2652634628.py:6: RuntimeWarning: The data contains 'boundary' events, indicating data discontinuities. Be cautious of filtering and epoching around these events.\n",
      "  p_eeg = mne.io.read_raw(x, preload=True)\n"
     ]
    },
    {
     "name": "stdout",
     "output_type": "stream",
     "text": [
      "NOTE: pick_types() is a legacy function. New code should use inst.pick(...).\n",
      "NOTE: pick_types() is a legacy function. New code should use inst.pick(...).\n"
     ]
    },
    {
     "name": "stderr",
     "output_type": "stream",
     "text": [
      "C:\\Users\\Demon\\AppData\\Local\\Temp\\ipykernel_24628\\2652634628.py:6: RuntimeWarning: The data contains 'boundary' events, indicating data discontinuities. Be cautious of filtering and epoching around these events.\n",
      "  p_eeg = mne.io.read_raw(x, preload=True)\n"
     ]
    },
    {
     "name": "stdout",
     "output_type": "stream",
     "text": [
      "NOTE: pick_types() is a legacy function. New code should use inst.pick(...).\n"
     ]
    },
    {
     "name": "stderr",
     "output_type": "stream",
     "text": [
      "C:\\Users\\Demon\\AppData\\Local\\Temp\\ipykernel_24628\\2652634628.py:6: RuntimeWarning: The data contains 'boundary' events, indicating data discontinuities. Be cautious of filtering and epoching around these events.\n",
      "  p_eeg = mne.io.read_raw(x, preload=True)\n"
     ]
    },
    {
     "name": "stdout",
     "output_type": "stream",
     "text": [
      "NOTE: pick_types() is a legacy function. New code should use inst.pick(...).\n",
      "NOTE: pick_types() is a legacy function. New code should use inst.pick(...).\n"
     ]
    },
    {
     "name": "stderr",
     "output_type": "stream",
     "text": [
      "C:\\Users\\Demon\\AppData\\Local\\Temp\\ipykernel_24628\\2652634628.py:6: RuntimeWarning: The data contains 'boundary' events, indicating data discontinuities. Be cautious of filtering and epoching around these events.\n",
      "  p_eeg = mne.io.read_raw(x, preload=True)\n"
     ]
    },
    {
     "name": "stdout",
     "output_type": "stream",
     "text": [
      "NOTE: pick_types() is a legacy function. New code should use inst.pick(...).\n"
     ]
    },
    {
     "name": "stderr",
     "output_type": "stream",
     "text": [
      "C:\\Users\\Demon\\AppData\\Local\\Temp\\ipykernel_24628\\2652634628.py:6: RuntimeWarning: The data contains 'boundary' events, indicating data discontinuities. Be cautious of filtering and epoching around these events.\n",
      "  p_eeg = mne.io.read_raw(x, preload=True)\n"
     ]
    },
    {
     "name": "stdout",
     "output_type": "stream",
     "text": [
      "NOTE: pick_types() is a legacy function. New code should use inst.pick(...).\n"
     ]
    },
    {
     "name": "stderr",
     "output_type": "stream",
     "text": [
      "C:\\Users\\Demon\\AppData\\Local\\Temp\\ipykernel_24628\\2652634628.py:6: RuntimeWarning: The data contains 'boundary' events, indicating data discontinuities. Be cautious of filtering and epoching around these events.\n",
      "  p_eeg = mne.io.read_raw(x, preload=True)\n"
     ]
    },
    {
     "name": "stdout",
     "output_type": "stream",
     "text": [
      "NOTE: pick_types() is a legacy function. New code should use inst.pick(...).\n"
     ]
    },
    {
     "name": "stderr",
     "output_type": "stream",
     "text": [
      "C:\\Users\\Demon\\AppData\\Local\\Temp\\ipykernel_24628\\2652634628.py:6: RuntimeWarning: The data contains 'boundary' events, indicating data discontinuities. Be cautious of filtering and epoching around these events.\n",
      "  p_eeg = mne.io.read_raw(x, preload=True)\n"
     ]
    },
    {
     "name": "stdout",
     "output_type": "stream",
     "text": [
      "NOTE: pick_types() is a legacy function. New code should use inst.pick(...).\n"
     ]
    },
    {
     "name": "stderr",
     "output_type": "stream",
     "text": [
      "C:\\Users\\Demon\\AppData\\Local\\Temp\\ipykernel_24628\\2652634628.py:6: RuntimeWarning: The data contains 'boundary' events, indicating data discontinuities. Be cautious of filtering and epoching around these events.\n",
      "  p_eeg = mne.io.read_raw(x, preload=True)\n"
     ]
    },
    {
     "name": "stdout",
     "output_type": "stream",
     "text": [
      "NOTE: pick_types() is a legacy function. New code should use inst.pick(...).\n",
      "NOTE: pick_types() is a legacy function. New code should use inst.pick(...).\n"
     ]
    },
    {
     "name": "stderr",
     "output_type": "stream",
     "text": [
      "C:\\Users\\Demon\\AppData\\Local\\Temp\\ipykernel_24628\\2652634628.py:6: RuntimeWarning: The data contains 'boundary' events, indicating data discontinuities. Be cautious of filtering and epoching around these events.\n",
      "  p_eeg = mne.io.read_raw(x, preload=True)\n"
     ]
    },
    {
     "name": "stdout",
     "output_type": "stream",
     "text": [
      "NOTE: pick_types() is a legacy function. New code should use inst.pick(...).\n"
     ]
    },
    {
     "name": "stderr",
     "output_type": "stream",
     "text": [
      "C:\\Users\\Demon\\AppData\\Local\\Temp\\ipykernel_24628\\2652634628.py:6: RuntimeWarning: The data contains 'boundary' events, indicating data discontinuities. Be cautious of filtering and epoching around these events.\n",
      "  p_eeg = mne.io.read_raw(x, preload=True)\n"
     ]
    },
    {
     "name": "stdout",
     "output_type": "stream",
     "text": [
      "NOTE: pick_types() is a legacy function. New code should use inst.pick(...).\n"
     ]
    },
    {
     "name": "stderr",
     "output_type": "stream",
     "text": [
      "C:\\Users\\Demon\\AppData\\Local\\Temp\\ipykernel_24628\\2652634628.py:6: RuntimeWarning: The data contains 'boundary' events, indicating data discontinuities. Be cautious of filtering and epoching around these events.\n",
      "  p_eeg = mne.io.read_raw(x, preload=True)\n"
     ]
    },
    {
     "name": "stdout",
     "output_type": "stream",
     "text": [
      "NOTE: pick_types() is a legacy function. New code should use inst.pick(...).\n"
     ]
    },
    {
     "name": "stderr",
     "output_type": "stream",
     "text": [
      "C:\\Users\\Demon\\AppData\\Local\\Temp\\ipykernel_24628\\2652634628.py:6: RuntimeWarning: The data contains 'boundary' events, indicating data discontinuities. Be cautious of filtering and epoching around these events.\n",
      "  p_eeg = mne.io.read_raw(x, preload=True)\n"
     ]
    },
    {
     "name": "stdout",
     "output_type": "stream",
     "text": [
      "NOTE: pick_types() is a legacy function. New code should use inst.pick(...).\n"
     ]
    },
    {
     "name": "stderr",
     "output_type": "stream",
     "text": [
      "C:\\Users\\Demon\\AppData\\Local\\Temp\\ipykernel_24628\\2652634628.py:6: RuntimeWarning: The data contains 'boundary' events, indicating data discontinuities. Be cautious of filtering and epoching around these events.\n",
      "  p_eeg = mne.io.read_raw(x, preload=True)\n"
     ]
    },
    {
     "name": "stdout",
     "output_type": "stream",
     "text": [
      "NOTE: pick_types() is a legacy function. New code should use inst.pick(...).\n",
      "NOTE: pick_types() is a legacy function. New code should use inst.pick(...).\n",
      "NOTE: pick_types() is a legacy function. New code should use inst.pick(...).\n",
      "NOTE: pick_types() is a legacy function. New code should use inst.pick(...).\n",
      "NOTE: pick_types() is a legacy function. New code should use inst.pick(...).\n"
     ]
    },
    {
     "name": "stderr",
     "output_type": "stream",
     "text": [
      "C:\\Users\\Demon\\AppData\\Local\\Temp\\ipykernel_24628\\2652634628.py:6: RuntimeWarning: The data contains 'boundary' events, indicating data discontinuities. Be cautious of filtering and epoching around these events.\n",
      "  p_eeg = mne.io.read_raw(x, preload=True)\n",
      "C:\\Users\\Demon\\AppData\\Local\\Temp\\ipykernel_24628\\2652634628.py:6: RuntimeWarning: The data contains 'boundary' events, indicating data discontinuities. Be cautious of filtering and epoching around these events.\n",
      "  p_eeg = mne.io.read_raw(x, preload=True)\n"
     ]
    },
    {
     "name": "stdout",
     "output_type": "stream",
     "text": [
      "NOTE: pick_types() is a legacy function. New code should use inst.pick(...).\n"
     ]
    },
    {
     "name": "stderr",
     "output_type": "stream",
     "text": [
      "C:\\Users\\Demon\\AppData\\Local\\Temp\\ipykernel_24628\\2652634628.py:6: RuntimeWarning: The data contains 'boundary' events, indicating data discontinuities. Be cautious of filtering and epoching around these events.\n",
      "  p_eeg = mne.io.read_raw(x, preload=True)\n",
      "C:\\Users\\Demon\\AppData\\Local\\Temp\\ipykernel_24628\\2652634628.py:6: RuntimeWarning: The data contains 'boundary' events, indicating data discontinuities. Be cautious of filtering and epoching around these events.\n",
      "  p_eeg = mne.io.read_raw(x, preload=True)\n"
     ]
    },
    {
     "name": "stdout",
     "output_type": "stream",
     "text": [
      "NOTE: pick_types() is a legacy function. New code should use inst.pick(...).\n",
      "(63, 57)\n"
     ]
    }
   ],
   "source": [
    "#feature extraction for all channels and all 88 subjects\n",
    "\n",
    "time_domain_features = []\n",
    "\n",
    "for x in set_files:\n",
    "    p_eeg = mne.io.read_raw(x, preload=True)\n",
    "    p_eeg.pick_types(eeg=True)\n",
    "    data = p_eeg.get_data()\n",
    "    \n",
    "    # Extract time-domain features\n",
    "    mean_amp = np.mean(data, axis=1)\n",
    "    rms = np.sqrt(np.mean(data ** 2, axis=1))\n",
    "    variance = np.var(data, axis=1)\n",
    "    # Store the features in a list\n",
    "    time_domain_features.append((mean_amp, rms, variance))\n",
    "\n",
    "# Flatten the list to a one-dimensional array\n",
    "time_domain_features = [np.concatenate((mean_amp, rms, variance)) for mean_amp, rms, variance in time_domain_features]\n",
    "\n",
    "# Convert the list to a numpy array\n",
    "time_domain_features = np.array(time_domain_features)\n",
    "\n",
    "# Print the shape of the array\n",
    "print(time_domain_features.shape)\n"
   ]
  },
  {
   "cell_type": "code",
   "execution_count": 116,
   "metadata": {},
   "outputs": [
    {
     "name": "stdout",
     "output_type": "stream",
     "text": [
      "                                                          0\n",
      "mean_amp  [-5.556345589604196e-08, -4.909393582058639e-0...\n",
      "variance  [1.0187983640336908e-09, 1.0335552960120471e-0...\n",
      "rms       [3.191866932269141e-05, 3.214899230499428e-05,...\n"
     ]
    }
   ],
   "source": [
    "import pandas as pd\n",
    "\n",
    "# Assuming you have extracted features and stored them in a dictionary\n",
    "extracted_features = {\n",
    "    'mean_amp': [mean_amp],\n",
    "    'variance': [variance],\n",
    "    'rms': [rms],\n",
    "    # Add more features as needed\n",
    "}\n",
    "\n",
    "# Convert the dictionary to a Pandas DataFrame\n",
    "df = pd.DataFrame(extracted_features)\n",
    "\n",
    "# Transpose the DataFrame\n",
    "df_transposed = df.T\n",
    "\n",
    "# Display the transposed DataFrame\n",
    "print(df_transposed)\n",
    "\n",
    "\n"
   ]
  },
  {
   "cell_type": "code",
   "execution_count": 117,
   "metadata": {},
   "outputs": [
    {
     "name": "stdout",
     "output_type": "stream",
     "text": [
      "Standard normalized data: [[-0.71114323 -0.71163774 -0.71182896 ... -0.69742801 -0.69743116\n",
      "  -0.69742997]\n",
      " [-0.70493826 -0.68785035 -0.69314398 ... -0.69741308 -0.69741305\n",
      "  -0.69741382]\n",
      " [-0.75259408 -0.69839597 -0.68565078 ... -0.69741699 -0.69741618\n",
      "  -0.69741575]\n",
      " ...\n",
      " [-0.69777574 -0.82734642 -0.10392326 ... -0.69737655 -0.69733821\n",
      "  -0.69728558]\n",
      " [-0.68367332 -0.68369058 -0.68494958 ... -0.69741314 -0.6974147\n",
      "  -0.69741434]\n",
      " [-0.700895   -0.70049735 -0.70084736 ... -0.69741796 -0.69741939\n",
      "  -0.69741907]]\n",
      "Min-max normalized data: [[0.01830498 0.01823967 0.01821442 ... 0.02011627 0.02011586 0.02011601]\n",
      " [0.01912443 0.02138114 0.02068204 ... 0.02011824 0.02011825 0.02011815]\n",
      " [0.0128308  0.01998844 0.02167163 ... 0.02011773 0.02011783 0.02011789]\n",
      " ...\n",
      " [0.02007035 0.00295867 0.09849715 ... 0.02012307 0.02012813 0.02013508]\n",
      " [0.02193278 0.0219305  0.02176423 ... 0.02011823 0.02011803 0.02011808]\n",
      " [0.0196584  0.01971092 0.0196647  ... 0.0201176  0.02011741 0.02011745]]\n"
     ]
    }
   ],
   "source": [
    "import numpy as np\n",
    "\n",
    "def normalize_data(time_domain_features, method='standard'):\n",
    "    \"\"\"\n",
    "    Normalize data using specified method.\n",
    "    \n",
    "    Parameters:\n",
    "        data: numpy array or list\n",
    "            The data to be normalized.\n",
    "        method: str, optional (default='standard')\n",
    "            Method of normalization. Options are 'standard' for z-score normalization\n",
    "            and 'min-max' for min-max scaling.\n",
    "    \n",
    "    Returns:\n",
    "        numpy array\n",
    "            Normalized data.\n",
    "    \"\"\"\n",
    "    if method == 'standard':\n",
    "        mean = np.mean(time_domain_features)\n",
    "        std_dev = np.std(time_domain_features)\n",
    "        normalized_data = (time_domain_features - mean) / std_dev\n",
    "    elif method == 'min-max':\n",
    "        min_val = np.min(time_domain_features)\n",
    "        max_val = np.max(time_domain_features)\n",
    "        normalized_data = (time_domain_features - min_val) / (max_val - min_val)\n",
    "    else:\n",
    "        raise ValueError(\"Invalid method. Choose either 'standard' or 'min-max'.\")\n",
    "    \n",
    "    return normalized_data\n",
    "\n",
    "\n",
    "normalized_data_standard = normalize_data(time_domain_features, method='standard')\n",
    "print(\"Standard normalized data:\", normalized_data_standard)\n",
    "\n",
    "normalized_data_minmax = normalize_data(time_domain_features, method='min-max')\n",
    "print(\"Min-max normalized data:\", normalized_data_minmax)\n"
   ]
  },
  {
   "cell_type": "code",
   "execution_count": 118,
   "metadata": {},
   "outputs": [
    {
     "name": "stdout",
     "output_type": "stream",
     "text": [
      "[[0.01830498 0.01823967 0.01821442 ... 0.02011627 0.02011586 0.02011601]\n",
      " [0.01912443 0.02138114 0.02068204 ... 0.02011824 0.02011825 0.02011815]\n",
      " [0.0128308  0.01998844 0.02167163 ... 0.02011773 0.02011783 0.02011789]\n",
      " ...\n",
      " [0.02007035 0.00295867 0.09849715 ... 0.02012307 0.02012813 0.02013508]\n",
      " [0.02193278 0.0219305  0.02176423 ... 0.02011823 0.02011803 0.02011808]\n",
      " [0.0196584  0.01971092 0.0196647  ... 0.0201176  0.02011741 0.02011745]]\n"
     ]
    }
   ],
   "source": [
    "print(normalized_data_minmax)"
   ]
  },
  {
   "cell_type": "code",
   "execution_count": 119,
   "metadata": {},
   "outputs": [],
   "source": [
    "from sklearn.metrics import auc, accuracy_score, confusion_matrix, mean_squared_error\n",
    "from sklearn.model_selection import cross_val_score, GridSearchCV, KFold, RandomizedSearchCV, train_test_split\n",
    "import xgboost as xgb"
   ]
  },
  {
   "cell_type": "code",
   "execution_count": 120,
   "metadata": {},
   "outputs": [
    {
     "name": "stdout",
     "output_type": "stream",
     "text": [
      "Number of Healthy EEG files: 29\n",
      "Number of Alzheimer's EEG files: 34\n",
      "File: sub-060_task-eyesclosed_eeg.set, Label: Healthy\n",
      "File: sub-061_task-eyesclosed_eeg.set, Label: Healthy\n",
      "File: sub-062_task-eyesclosed_eeg.set, Label: Healthy\n",
      "File: sub-063_task-eyesclosed_eeg.set, Label: Healthy\n",
      "File: sub-064_task-eyesclosed_eeg.set, Label: Healthy\n",
      "File: sub-065_task-eyesclosed_eeg.set, Label: Healthy\n",
      "File: sub-066_task-eyesclosed_eeg.set, Label: Healthy\n",
      "File: sub-067_task-eyesclosed_eeg.set, Label: Healthy\n",
      "File: sub-068_task-eyesclosed_eeg.set, Label: Healthy\n",
      "File: sub-069_task-eyesclosed_eeg.set, Label: Healthy\n",
      "File: sub-070_task-eyesclosed_eeg.set, Label: Healthy\n",
      "File: sub-071_task-eyesclosed_eeg.set, Label: Healthy\n",
      "File: sub-072_task-eyesclosed_eeg.set, Label: Healthy\n",
      "File: sub-073_task-eyesclosed_eeg.set, Label: Healthy\n",
      "File: sub-074_task-eyesclosed_eeg.set, Label: Healthy\n",
      "File: sub-075_task-eyesclosed_eeg.set, Label: Healthy\n",
      "File: sub-076_task-eyesclosed_eeg.set, Label: Healthy\n",
      "File: sub-077_task-eyesclosed_eeg.set, Label: Healthy\n",
      "File: sub-078_task-eyesclosed_eeg.set, Label: Healthy\n",
      "File: sub-079_task-eyesclosed_eeg.set, Label: Healthy\n",
      "File: sub-080_task-eyesclosed_eeg.set, Label: Healthy\n",
      "File: sub-081_task-eyesclosed_eeg.set, Label: Healthy\n",
      "File: sub-082_task-eyesclosed_eeg.set, Label: Healthy\n",
      "File: sub-083_task-eyesclosed_eeg.set, Label: Healthy\n",
      "File: sub-084_task-eyesclosed_eeg.set, Label: Healthy\n",
      "File: sub-085_task-eyesclosed_eeg.set, Label: Healthy\n",
      "File: sub-086_task-eyesclosed_eeg.set, Label: Healthy\n",
      "File: sub-087_task-eyesclosed_eeg.set, Label: Healthy\n",
      "File: sub-088_task-eyesclosed_eeg.set, Label: Healthy\n",
      "File: sub-003_task-eyesclosed_eeg.set, Label: Alzheimers\n",
      "File: sub-004_task-eyesclosed_eeg.set, Label: Alzheimers\n",
      "File: sub-005_task-eyesclosed_eeg.set, Label: Alzheimers\n",
      "File: sub-006_task-eyesclosed_eeg.set, Label: Alzheimers\n",
      "File: sub-007_task-eyesclosed_eeg.set, Label: Alzheimers\n",
      "File: sub-008_task-eyesclosed_eeg.set, Label: Alzheimers\n",
      "File: sub-009_task-eyesclosed_eeg.set, Label: Alzheimers\n",
      "File: sub-010_task-eyesclosed_eeg.set, Label: Alzheimers\n",
      "File: sub-011_task-eyesclosed_eeg.set, Label: Alzheimers\n",
      "File: sub-012_task-eyesclosed_eeg.set, Label: Alzheimers\n",
      "File: sub-013_task-eyesclosed_eeg.set, Label: Alzheimers\n",
      "File: sub-014_task-eyesclosed_eeg.set, Label: Alzheimers\n",
      "File: sub-015_task-eyesclosed_eeg.set, Label: Alzheimers\n",
      "File: sub-016_task-eyesclosed_eeg.set, Label: Alzheimers\n",
      "File: sub-017_task-eyesclosed_eeg.set, Label: Alzheimers\n",
      "File: sub-018_task-eyesclosed_eeg.set, Label: Alzheimers\n",
      "File: sub-019_task-eyesclosed_eeg.set, Label: Alzheimers\n",
      "File: sub-020_task-eyesclosed_eeg.set, Label: Alzheimers\n",
      "File: sub-021_task-eyesclosed_eeg.set, Label: Alzheimers\n",
      "File: sub-022_task-eyesclosed_eeg.set, Label: Alzheimers\n",
      "File: sub-023_task-eyesclosed_eeg.set, Label: Alzheimers\n",
      "File: sub-024_task-eyesclosed_eeg.set, Label: Alzheimers\n",
      "File: sub-025_task-eyesclosed_eeg.set, Label: Alzheimers\n",
      "File: sub-026_task-eyesclosed_eeg.set, Label: Alzheimers\n",
      "File: sub-027_task-eyesclosed_eeg.set, Label: Alzheimers\n",
      "File: sub-028_task-eyesclosed_eeg.set, Label: Alzheimers\n",
      "File: sub-029_task-eyesclosed_eeg.set, Label: Alzheimers\n",
      "File: sub-030_task-eyesclosed_eeg.set, Label: Alzheimers\n",
      "File: sub-031_task-eyesclosed_eeg.set, Label: Alzheimers\n",
      "File: sub-032_task-eyesclosed_eeg.set, Label: Alzheimers\n",
      "File: sub-033_task-eyesclosed_eeg.set, Label: Alzheimers\n",
      "File: sub-034_task-eyesclosed_eeg.set, Label: Alzheimers\n",
      "File: sub-035_task-eyesclosed_eeg.set, Label: Alzheimers\n",
      "File: sub-036_task-eyesclosed_eeg.set, Label: Alzheimers\n"
     ]
    }
   ],
   "source": [
    "from glob import glob\n",
    "\n",
    "# Specify the directory paths where your EEG data files are located\n",
    "healthy_folder = r'D:\\SRM\\ALZHEIMER DATA\\EEG 19 CHANNEL 1\\HEALTHY'\n",
    "alzheimers_folder = r'D:\\SRM\\ALZHEIMER DATA\\EEG 19 CHANNEL 1\\AD'\n",
    "\n",
    "# Use glob to find all EEG data files in the specified directories\n",
    "healthy_files = glob(f'{healthy_folder}/**/*.set', recursive=True)\n",
    "alzheimers_files = glob(f'{alzheimers_folder}/**/*.set', recursive=True)\n",
    "\n",
    "# Print the number of EEG data files found\n",
    "print(\"Number of Healthy EEG files:\", len(healthy_files))\n",
    "print(\"Number of Alzheimer's EEG files:\", len(alzheimers_files))\n",
    "\n",
    "# Assign labels to EEG data files\n",
    "file_labels = {}\n",
    "\n",
    "# For healthy files, assign label 0\n",
    "for file_path in healthy_files:\n",
    "    file_name = file_path.split('\\\\')[-1]  # Extract file name from path\n",
    "    file_labels[file_name] = 0\n",
    "\n",
    "# For Alzheimer's files, assign label 1\n",
    "for file_path in alzheimers_files:\n",
    "    file_name = file_path.split('\\\\')[-1]  # Extract file name from path\n",
    "    file_labels[file_name] = 1\n",
    "\n",
    "# Print the labels associated with EEG data files\n",
    "for file_name, label in file_labels.items():\n",
    "    print(f\"File: {file_name}, Label: {'Healthy' if label == 0 else 'Alzheimers'}\")\n",
    "\n"
   ]
  },
  {
   "cell_type": "code",
   "execution_count": 121,
   "metadata": {},
   "outputs": [
    {
     "name": "stdout",
     "output_type": "stream",
     "text": [
      "[0 0 0 0 0 0 0 0 0 0 0 0 0 0 0 0 0 0 0 0 0 0 0 0 0 0 0 0 0 0 0 1 1 1 1 1 1\n",
      " 1 1 1 1 1 1 1 1 1 1 1 1 1 1 1 1 1 1 1 1 1 1 1 1 1 1]\n",
      "<class 'numpy.ndarray'>\n",
      "(63,)\n"
     ]
    }
   ],
   "source": [
    "import numpy as np\n",
    "\n",
    "# Assuming you have the number of samples and the labels for each sample\n",
    "num_samples = len(normalized_data_minmax)\n",
    "healthy_label = 0\n",
    "alzheimers_label = 1\n",
    "\n",
    "# Create an array to hold the labels\n",
    "label = np.zeros(num_samples, dtype=int)  # Initialize with zeros\n",
    "\n",
    "# Assign labels based on your data or conditions\n",
    "# For example, if the first half of samples are \"healthy\" and the second half are \"Alzheimer's\"\n",
    "label[:num_samples//2] = healthy_label\n",
    "label[num_samples//2:] = alzheimers_label\n",
    "\n",
    "# Now, you can print the label and its type\n",
    "print(label)\n",
    "print(type(label))\n",
    "print(label.shape)\n"
   ]
  },
  {
   "cell_type": "code",
   "execution_count": 122,
   "metadata": {},
   "outputs": [
    {
     "name": "stdout",
     "output_type": "stream",
     "text": [
      "Accuracy: 0.8571428571428571\n"
     ]
    }
   ],
   "source": [
    "from sklearn.model_selection import train_test_split\n",
    "from sklearn.svm import SVC\n",
    "from sklearn.metrics import accuracy_score\n",
    "\n",
    "# Assuming you have your data and labels ready\n",
    "X = ...  # Features\n",
    "y = ...  # Labels (0 for healthy, 1 for AD)\n",
    "\n",
    "# Split the data into training and testing sets\n",
    "X_train, X_test, y_train, y_test = train_test_split(time_domain_features, label, test_size=0.1, random_state=42)\n",
    "\n",
    "# Initialize an SVM model\n",
    "svm_model = SVC(kernel='poly', C=80)\n",
    "\n",
    "# Train the SVM model on the training data\n",
    "svm_model.fit(X_train, y_train)\n",
    "\n",
    "# Make predictions on the testing data\n",
    "y_pred = svm_model.predict(X_test)\n",
    "\n",
    "# Evaluate the model's performance\n",
    "accuracy = accuracy_score(y_test, y_pred)\n",
    "print(\"Accuracy:\", accuracy)\n"
   ]
  },
  {
   "cell_type": "code",
   "execution_count": 123,
   "metadata": {},
   "outputs": [
    {
     "name": "stdout",
     "output_type": "stream",
     "text": [
      "Precision: 0.8\n",
      "Recall: 1.0\n",
      "F1 Score: 0.8888888888888888\n",
      "AUC: 0.8333333333333334\n"
     ]
    }
   ],
   "source": [
    "from sklearn.metrics import precision_score, recall_score, f1_score, roc_auc_score\n",
    "\n",
    "# Calculate precision\n",
    "precision = precision_score(y_test, y_pred)\n",
    "\n",
    "# Calculate recall\n",
    "recall = recall_score(y_test, y_pred)\n",
    "\n",
    "# Calculate F1 score\n",
    "f1 = f1_score(y_test, y_pred)\n",
    "\n",
    "# Calculate AUC\n",
    "auc = roc_auc_score(y_test, y_pred)\n",
    "\n",
    "print(\"Precision:\", precision)\n",
    "print(\"Recall:\", recall)\n",
    "print(\"F1 Score:\", f1)\n",
    "print(\"AUC:\", auc)\n"
   ]
  },
  {
   "cell_type": "code",
   "execution_count": 124,
   "metadata": {},
   "outputs": [
    {
     "data": {
      "image/png": "[encoded data removed]",
      "text/plain": [
       "<Figure size 1000x600 with 1 Axes>"
      ]
     },
     "metadata": {},
     "output_type": "display_data"
    }
   ],
   "source": [
    "import matplotlib.pyplot as plt\n",
    "\n",
    "# Assuming you have lists of performance metrics for your SVM model\n",
    "metrics = ['Accuracy', 'Precision', 'Recall', 'F1 Score', 'AUC']\n",
    "values = [0.8571428571428571, 0.80, 1.0, 0.8888888888888888, 0.8333333333333334]  # Example values\n",
    "\n",
    "# Create a bar graph\n",
    "plt.figure(figsize=(10, 6))\n",
    "plt.bar(metrics, values, color='skyblue')\n",
    "\n",
    "# Add labels and title\n",
    "plt.xlabel('Metrics')\n",
    "plt.ylabel('Value')\n",
    "plt.title('Performance Metrics of SVM Model')\n",
    "\n",
    "# Show the plot\n",
    "plt.grid(True)\n",
    "plt.show()\n"
   ]
  },
  {
   "cell_type": "code",
   "execution_count": 125,
   "metadata": {},
   "outputs": [
    {
     "name": "stdout",
     "output_type": "stream",
     "text": [
      "Accuracy: 0.2857142857142857\n"
     ]
    }
   ],
   "source": [
    "import xgboost as xgb\n",
    "from sklearn.metrics import accuracy_score\n",
    "\n",
    "# Assuming you have your feature matrix X and target labels y\n",
    "X = time_domain_features  # Feature matrix\n",
    "y = label  # Target labels\n",
    "\n",
    "# Define the number of classes in your classification task\n",
    "num_classes = len(set(y))\n",
    "\n",
    "# Step 2: Define the XGBoost classifier with 'multi:softprob' objective\n",
    "xgb_clf = xgb.XGBClassifier(objective='multi:softprob', num_class=num_classes, random_state=42)\n",
    "\n",
    "# Split the data into training and testing sets\n",
    "X_train, X_test, y_train, y_test = train_test_split(X, y, test_size=0.1, random_state=42)\n",
    "\n",
    "# Train the XGBoost classifier\n",
    "xgb_clf.fit(X_train, y_train)\n",
    "\n",
    "# Make predictions on the testing data\n",
    "probs = xgb_clf.predict_proba(X_test)\n",
    "\n",
    "# Assuming you have obtained the predicted probabilities (probs) and true class labels (y_test)\n",
    "# Convert predicted probabilities to class labels\n",
    "predicted_labels = probs.argmax(axis=1)\n",
    "\n",
    "# Calculate accuracy\n",
    "accuracy = accuracy_score(y_test, predicted_labels)\n",
    "\n",
    "# Print the accuracy\n",
    "print(\"Accuracy:\", accuracy)\n"
   ]
  },
  {
   "cell_type": "code",
   "execution_count": 126,
   "metadata": {},
   "outputs": [
    {
     "name": "stdout",
     "output_type": "stream",
     "text": [
      "Test Accuracy: 0.2857142857142857\n"
     ]
    }
   ],
   "source": [
    "import numpy as np\n",
    "import xgboost as xgb\n",
    "from sklearn.model_selection import train_test_split\n",
    "from sklearn.metrics import accuracy_score\n",
    "random_seed=42\n",
    "# Assuming you have EEG data stored in X and corresponding labels in y\n",
    "# X should be a 2D array where each row represents one sample and each column represents one feature\n",
    "# y should be a 1D array containing the class labels\n",
    "\n",
    "# Step 1: Split the data into train and test sets\n",
    "X_train, X_test, y_train, y_test = train_test_split(normalized_data_minmax,label , test_size=0.1, random_state=42)\n",
    "# Step 2: Define the number of classes (since you have two classes)\n",
    "num_classes = 2\n",
    "\n",
    "# Step 2: Define the XGBoost classifier\n",
    "xgb_clf = xgb.XGBClassifier(objective='multi:softmax', num_class=num_classes, random_state=random_seed)\n",
    "\n",
    "# Step 3: Train the classifier\n",
    "xgb_clf.fit(X_train, y_train)\n",
    "\n",
    "# Step 4: Make predictions on the test set\n",
    "y_pred = xgb_clf.predict(X_test)\n",
    "\n",
    "# Step 5: Evaluate the classifier\n",
    "accuracy = accuracy_score(y_test, y_pred)\n",
    "print(\"Test Accuracy:\", accuracy)\n"
   ]
  },
  {
   "cell_type": "code",
   "execution_count": 127,
   "metadata": {},
   "outputs": [
    {
     "name": "stdout",
     "output_type": "stream",
     "text": [
      "Test Accuracy: 0.42857142857142855\n"
     ]
    }
   ],
   "source": [
    "from xgboost import XGBClassifier\n",
    "\n",
    "# Initialize the classifier with parameters\n",
    "clf = XGBClassifier(\n",
    "    n_estimators=25,\n",
    "    max_depth=7,\n",
    "    learning_rate=0.1,\n",
    "    subsample=0.7,\n",
    "    colsample_bytree=0.8,\n",
    "    gamma=0.1,\n",
    "    reg_alpha=3,\n",
    "    reg_lambda=2,\n",
    "    objective='binary:logistic',\n",
    "    eval_metric='mlogloss',\n",
    "    random_state=random_seed\n",
    ")\n",
    "\n",
    "# Train the classifier\n",
    "clf.fit(X_train, y_train)\n",
    "\n",
    "# Make predictions\n",
    "y_pred = clf.predict(X_test)\n",
    "# Evaluate the classifier\n",
    "accuracy = accuracy_score(y_test, y_pred)\n",
    "print(\"Test Accuracy:\", accuracy)\n"
   ]
  },
  {
   "cell_type": "code",
   "execution_count": 128,
   "metadata": {},
   "outputs": [
    {
     "name": "stdout",
     "output_type": "stream",
     "text": [
      "Precision: 0.5\n",
      "Recall: 0.25\n",
      "F1-score: 0.3333333333333333\n"
     ]
    }
   ],
   "source": [
    "from sklearn.metrics import precision_score, recall_score, f1_score\n",
    "\n",
    "# Assuming y_true contains the true labels and y_pred contains the predicted labels\n",
    "\n",
    "# Calculate precision\n",
    "precision = precision_score(y_test, y_pred)\n",
    "\n",
    "# Calculate recall\n",
    "recall = recall_score(y_test, y_pred)\n",
    "\n",
    "# Calculate F1-score\n",
    "f1 = f1_score(y_test, y_pred)\n",
    "\n",
    "print(\"Precision:\", precision)\n",
    "print(\"Recall:\", recall)\n",
    "print(\"F1-score:\", f1)\n"
   ]
  },
  {
   "cell_type": "code",
   "execution_count": 129,
   "metadata": {},
   "outputs": [
    {
     "name": "stdout",
     "output_type": "stream",
     "text": [
      "[LightGBM] [Warning] min_data_in_leaf is set=1, min_child_samples=20 will be ignored. Current value: min_data_in_leaf=1\n",
      "[LightGBM] [Warning] min_data_in_leaf is set=1, min_child_samples=20 will be ignored. Current value: min_data_in_leaf=1\n",
      "[LightGBM] [Info] Number of positive: 28, number of negative: 28\n",
      "[LightGBM] [Info] Auto-choosing col-wise multi-threading, the overhead of testing was 0.000309 seconds.\n",
      "You can set `force_col_wise=true` to remove the overhead.\n",
      "[LightGBM] [Info] Total Bins 3249\n",
      "[LightGBM] [Info] Number of data points in the train set: 56, number of used features: 57\n",
      "[LightGBM] [Info] [binary:BoostFromScore]: pavg=0.500000 -> initscore=0.000000\n",
      "[LightGBM] [Warning] No further splits with positive gain, best gain: -inf\n",
      "[LightGBM] [Warning] No further splits with positive gain, best gain: -inf\n",
      "[LightGBM] [Warning] No further splits with positive gain, best gain: -inf\n",
      "[LightGBM] [Warning] No further splits with positive gain, best gain: -inf\n",
      "[LightGBM] [Warning] No further splits with positive gain, best gain: -inf\n",
      "[LightGBM] [Warning] No further splits with positive gain, best gain: -inf\n",
      "[LightGBM] [Warning] No further splits with positive gain, best gain: -inf\n",
      "[LightGBM] [Warning] No further splits with positive gain, best gain: -inf\n",
      "[LightGBM] [Warning] No further splits with positive gain, best gain: -inf\n",
      "[LightGBM] [Warning] No further splits with positive gain, best gain: -inf\n",
      "[LightGBM] [Warning] No further splits with positive gain, best gain: -inf\n",
      "[LightGBM] [Warning] No further splits with positive gain, best gain: -inf\n",
      "[LightGBM] [Warning] No further splits with positive gain, best gain: -inf\n",
      "[LightGBM] [Warning] No further splits with positive gain, best gain: -inf\n",
      "[LightGBM] [Warning] No further splits with positive gain, best gain: -inf\n",
      "[LightGBM] [Warning] No further splits with positive gain, best gain: -inf\n",
      "[LightGBM] [Warning] No further splits with positive gain, best gain: -inf\n",
      "[LightGBM] [Warning] No further splits with positive gain, best gain: -inf\n",
      "[LightGBM] [Warning] No further splits with positive gain, best gain: -inf\n",
      "[LightGBM] [Warning] No further splits with positive gain, best gain: -inf\n",
      "[LightGBM] [Warning] No further splits with positive gain, best gain: -inf\n",
      "[LightGBM] [Warning] No further splits with positive gain, best gain: -inf\n",
      "[LightGBM] [Warning] No further splits with positive gain, best gain: -inf\n",
      "[LightGBM] [Warning] No further splits with positive gain, best gain: -inf\n",
      "[LightGBM] [Warning] No further splits with positive gain, best gain: -inf\n",
      "[LightGBM] [Warning] No further splits with positive gain, best gain: -inf\n",
      "[LightGBM] [Warning] No further splits with positive gain, best gain: -inf\n",
      "[LightGBM] [Warning] No further splits with positive gain, best gain: -inf\n",
      "[LightGBM] [Warning] No further splits with positive gain, best gain: -inf\n",
      "[LightGBM] [Warning] No further splits with positive gain, best gain: -inf\n",
      "[LightGBM] [Warning] No further splits with positive gain, best gain: -inf\n",
      "[LightGBM] [Warning] No further splits with positive gain, best gain: -inf\n",
      "[LightGBM] [Warning] No further splits with positive gain, best gain: -inf\n",
      "[LightGBM] [Warning] No further splits with positive gain, best gain: -inf\n",
      "[LightGBM] [Warning] No further splits with positive gain, best gain: -inf\n",
      "[LightGBM] [Warning] No further splits with positive gain, best gain: -inf\n",
      "[LightGBM] [Warning] No further splits with positive gain, best gain: -inf\n",
      "[LightGBM] [Warning] No further splits with positive gain, best gain: -inf\n",
      "[LightGBM] [Warning] No further splits with positive gain, best gain: -inf\n",
      "[LightGBM] [Warning] No further splits with positive gain, best gain: -inf\n",
      "[LightGBM] [Warning] No further splits with positive gain, best gain: -inf\n",
      "[LightGBM] [Warning] No further splits with positive gain, best gain: -inf\n",
      "[LightGBM] [Warning] No further splits with positive gain, best gain: -inf\n",
      "[LightGBM] [Warning] No further splits with positive gain, best gain: -inf\n",
      "[LightGBM] [Warning] No further splits with positive gain, best gain: -inf\n",
      "[LightGBM] [Warning] No further splits with positive gain, best gain: -inf\n",
      "[LightGBM] [Warning] No further splits with positive gain, best gain: -inf\n",
      "[LightGBM] [Warning] No further splits with positive gain, best gain: -inf\n",
      "[LightGBM] [Warning] No further splits with positive gain, best gain: -inf\n",
      "[LightGBM] [Warning] No further splits with positive gain, best gain: -inf\n",
      "[LightGBM] [Warning] No further splits with positive gain, best gain: -inf\n",
      "[LightGBM] [Warning] No further splits with positive gain, best gain: -inf\n",
      "[LightGBM] [Warning] No further splits with positive gain, best gain: -inf\n",
      "[LightGBM] [Warning] No further splits with positive gain, best gain: -inf\n",
      "[LightGBM] [Warning] No further splits with positive gain, best gain: -inf\n",
      "[LightGBM] [Warning] No further splits with positive gain, best gain: -inf\n",
      "[LightGBM] [Warning] No further splits with positive gain, best gain: -inf\n",
      "[LightGBM] [Warning] No further splits with positive gain, best gain: -inf\n",
      "[LightGBM] [Warning] No further splits with positive gain, best gain: -inf\n",
      "[LightGBM] [Warning] No further splits with positive gain, best gain: -inf\n",
      "[LightGBM] [Warning] No further splits with positive gain, best gain: -inf\n",
      "[LightGBM] [Warning] No further splits with positive gain, best gain: -inf\n",
      "[LightGBM] [Warning] No further splits with positive gain, best gain: -inf\n",
      "[LightGBM] [Warning] No further splits with positive gain, best gain: -inf\n",
      "[LightGBM] [Warning] No further splits with positive gain, best gain: -inf\n",
      "[LightGBM] [Warning] No further splits with positive gain, best gain: -inf\n",
      "[LightGBM] [Warning] No further splits with positive gain, best gain: -inf\n",
      "[LightGBM] [Warning] No further splits with positive gain, best gain: -inf\n",
      "[LightGBM] [Warning] No further splits with positive gain, best gain: -inf\n",
      "[LightGBM] [Warning] No further splits with positive gain, best gain: -inf\n",
      "[LightGBM] [Warning] No further splits with positive gain, best gain: -inf\n",
      "[LightGBM] [Warning] No further splits with positive gain, best gain: -inf\n",
      "[LightGBM] [Warning] No further splits with positive gain, best gain: -inf\n",
      "[LightGBM] [Warning] No further splits with positive gain, best gain: -inf\n",
      "[LightGBM] [Warning] No further splits with positive gain, best gain: -inf\n",
      "[LightGBM] [Warning] No further splits with positive gain, best gain: -inf\n",
      "[LightGBM] [Warning] No further splits with positive gain, best gain: -inf\n",
      "[LightGBM] [Warning] No further splits with positive gain, best gain: -inf\n",
      "[LightGBM] [Warning] No further splits with positive gain, best gain: -inf\n",
      "[LightGBM] [Warning] No further splits with positive gain, best gain: -inf\n",
      "[LightGBM] [Warning] No further splits with positive gain, best gain: -inf\n",
      "[LightGBM] [Warning] No further splits with positive gain, best gain: -inf\n",
      "[LightGBM] [Warning] No further splits with positive gain, best gain: -inf\n",
      "[LightGBM] [Warning] No further splits with positive gain, best gain: -inf\n",
      "[LightGBM] [Warning] No further splits with positive gain, best gain: -inf\n",
      "[LightGBM] [Warning] No further splits with positive gain, best gain: -inf\n",
      "[LightGBM] [Warning] No further splits with positive gain, best gain: -inf\n",
      "[LightGBM] [Warning] No further splits with positive gain, best gain: -inf\n",
      "[LightGBM] [Warning] No further splits with positive gain, best gain: -inf\n",
      "[LightGBM] [Warning] No further splits with positive gain, best gain: -inf\n",
      "[LightGBM] [Warning] No further splits with positive gain, best gain: -inf\n",
      "[LightGBM] [Warning] No further splits with positive gain, best gain: -inf\n",
      "[LightGBM] [Warning] No further splits with positive gain, best gain: -inf\n",
      "[LightGBM] [Warning] No further splits with positive gain, best gain: -inf\n",
      "[LightGBM] [Warning] No further splits with positive gain, best gain: -inf\n",
      "[LightGBM] [Warning] No further splits with positive gain, best gain: -inf\n",
      "[LightGBM] [Warning] No further splits with positive gain, best gain: -inf\n",
      "[LightGBM] [Warning] No further splits with positive gain, best gain: -inf\n",
      "[LightGBM] [Warning] No further splits with positive gain, best gain: -inf\n",
      "[LightGBM] [Warning] No further splits with positive gain, best gain: -inf\n",
      "[LightGBM] [Warning] min_data_in_leaf is set=1, min_child_samples=20 will be ignored. Current value: min_data_in_leaf=1\n",
      "Test Accuracy: 0.5714285714285714\n"
     ]
    }
   ],
   "source": [
    "import lightgbm as lgb\n",
    "from sklearn.model_selection import train_test_split\n",
    "from sklearn.metrics import accuracy_score\n",
    "\n",
    "# Assuming you have your features stored in X and labels stored in y\n",
    "\n",
    "# Step 1: Split the data into training and testing sets\n",
    "X_train, X_test, y_train, y_test = train_test_split(normalized_data_standard, label, test_size=0.1, random_state=42)\n",
    "\n",
    "# Step 2: Define the LightGBM classifier with some additional parameters\n",
    "lgb_clf = lgb.LGBMClassifier(min_data_in_leaf=1, min_data_in_bin=1)\n",
    "\n",
    "# Step 3: Train the classifier\n",
    "lgb_clf.fit(X_train, y_train)\n",
    "\n",
    "# Step 4: Make predictions on the test set\n",
    "y_pred = lgb_clf.predict(X_test)\n",
    "\n",
    "# Step 5: Evaluate the classifier\n",
    "accuracy = accuracy_score(y_test, y_pred)\n",
    "print(\"Test Accuracy:\", accuracy)\n",
    "\n"
   ]
  }
 ],
 "metadata": {
  "kernelspec": {
   "display_name": "Python 3",
   "language": "python",
   "name": "python3"
  },
  "language_info": {
   "codemirror_mode": {
    "name": "ipython",
    "version": 3
   },
   "file_extension": ".py",
   "mimetype": "text/x-python",
   "name": "python",
   "nbconvert_exporter": "python",
   "pygments_lexer": "ipython3",
   "version": "3.12.0"
  }
 },
 "nbformat": 4,
 "nbformat_minor": 2
}
